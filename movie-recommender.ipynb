{
 "cells": [
  {
   "cell_type": "code",
   "execution_count": 1,
   "id": "fffcb255-df24-47ef-9fbd-b9df486e3884",
   "metadata": {},
   "outputs": [],
   "source": [
    "import pandas as pd\n",
    "import numpy as np"
   ]
  },
  {
   "cell_type": "code",
   "execution_count": 3,
   "id": "33ffca4c-3083-4b0c-b8c3-1135ff993c41",
   "metadata": {},
   "outputs": [
    {
     "data": {
      "text/html": [
       "<div>\n",
       "<style scoped>\n",
       "    .dataframe tbody tr th:only-of-type {\n",
       "        vertical-align: middle;\n",
       "    }\n",
       "\n",
       "    .dataframe tbody tr th {\n",
       "        vertical-align: top;\n",
       "    }\n",
       "\n",
       "    .dataframe thead th {\n",
       "        text-align: right;\n",
       "    }\n",
       "</style>\n",
       "<table border=\"1\" class=\"dataframe\">\n",
       "  <thead>\n",
       "    <tr style=\"text-align: right;\">\n",
       "      <th></th>\n",
       "      <th>show_id</th>\n",
       "      <th>type</th>\n",
       "      <th>title</th>\n",
       "      <th>director</th>\n",
       "      <th>cast</th>\n",
       "      <th>country</th>\n",
       "      <th>date_added</th>\n",
       "      <th>release_year</th>\n",
       "      <th>rating</th>\n",
       "      <th>duration</th>\n",
       "      <th>listed_in</th>\n",
       "      <th>description</th>\n",
       "    </tr>\n",
       "  </thead>\n",
       "  <tbody>\n",
       "    <tr>\n",
       "      <th>0</th>\n",
       "      <td>s1</td>\n",
       "      <td>Movie</td>\n",
       "      <td>Dick Johnson Is Dead</td>\n",
       "      <td>Kirsten Johnson</td>\n",
       "      <td>NaN</td>\n",
       "      <td>United States</td>\n",
       "      <td>September 25, 2021</td>\n",
       "      <td>2020</td>\n",
       "      <td>PG-13</td>\n",
       "      <td>90 min</td>\n",
       "      <td>Documentaries</td>\n",
       "      <td>As her father nears the end of his life, filmm...</td>\n",
       "    </tr>\n",
       "    <tr>\n",
       "      <th>1</th>\n",
       "      <td>s2</td>\n",
       "      <td>TV Show</td>\n",
       "      <td>Blood &amp; Water</td>\n",
       "      <td>NaN</td>\n",
       "      <td>Ama Qamata, Khosi Ngema, Gail Mabalane, Thaban...</td>\n",
       "      <td>South Africa</td>\n",
       "      <td>September 24, 2021</td>\n",
       "      <td>2021</td>\n",
       "      <td>TV-MA</td>\n",
       "      <td>2 Seasons</td>\n",
       "      <td>International TV Shows, TV Dramas, TV Mysteries</td>\n",
       "      <td>After crossing paths at a party, a Cape Town t...</td>\n",
       "    </tr>\n",
       "    <tr>\n",
       "      <th>2</th>\n",
       "      <td>s3</td>\n",
       "      <td>TV Show</td>\n",
       "      <td>Ganglands</td>\n",
       "      <td>Julien Leclercq</td>\n",
       "      <td>Sami Bouajila, Tracy Gotoas, Samuel Jouy, Nabi...</td>\n",
       "      <td>NaN</td>\n",
       "      <td>September 24, 2021</td>\n",
       "      <td>2021</td>\n",
       "      <td>TV-MA</td>\n",
       "      <td>1 Season</td>\n",
       "      <td>Crime TV Shows, International TV Shows, TV Act...</td>\n",
       "      <td>To protect his family from a powerful drug lor...</td>\n",
       "    </tr>\n",
       "    <tr>\n",
       "      <th>3</th>\n",
       "      <td>s4</td>\n",
       "      <td>TV Show</td>\n",
       "      <td>Jailbirds New Orleans</td>\n",
       "      <td>NaN</td>\n",
       "      <td>NaN</td>\n",
       "      <td>NaN</td>\n",
       "      <td>September 24, 2021</td>\n",
       "      <td>2021</td>\n",
       "      <td>TV-MA</td>\n",
       "      <td>1 Season</td>\n",
       "      <td>Docuseries, Reality TV</td>\n",
       "      <td>Feuds, flirtations and toilet talk go down amo...</td>\n",
       "    </tr>\n",
       "    <tr>\n",
       "      <th>4</th>\n",
       "      <td>s5</td>\n",
       "      <td>TV Show</td>\n",
       "      <td>Kota Factory</td>\n",
       "      <td>NaN</td>\n",
       "      <td>Mayur More, Jitendra Kumar, Ranjan Raj, Alam K...</td>\n",
       "      <td>India</td>\n",
       "      <td>September 24, 2021</td>\n",
       "      <td>2021</td>\n",
       "      <td>TV-MA</td>\n",
       "      <td>2 Seasons</td>\n",
       "      <td>International TV Shows, Romantic TV Shows, TV ...</td>\n",
       "      <td>In a city of coaching centers known to train I...</td>\n",
       "    </tr>\n",
       "  </tbody>\n",
       "</table>\n",
       "</div>"
      ],
      "text/plain": [
       "  show_id     type                  title         director  \\\n",
       "0      s1    Movie   Dick Johnson Is Dead  Kirsten Johnson   \n",
       "1      s2  TV Show          Blood & Water              NaN   \n",
       "2      s3  TV Show              Ganglands  Julien Leclercq   \n",
       "3      s4  TV Show  Jailbirds New Orleans              NaN   \n",
       "4      s5  TV Show           Kota Factory              NaN   \n",
       "\n",
       "                                                cast        country  \\\n",
       "0                                                NaN  United States   \n",
       "1  Ama Qamata, Khosi Ngema, Gail Mabalane, Thaban...   South Africa   \n",
       "2  Sami Bouajila, Tracy Gotoas, Samuel Jouy, Nabi...            NaN   \n",
       "3                                                NaN            NaN   \n",
       "4  Mayur More, Jitendra Kumar, Ranjan Raj, Alam K...          India   \n",
       "\n",
       "           date_added  release_year rating   duration  \\\n",
       "0  September 25, 2021          2020  PG-13     90 min   \n",
       "1  September 24, 2021          2021  TV-MA  2 Seasons   \n",
       "2  September 24, 2021          2021  TV-MA   1 Season   \n",
       "3  September 24, 2021          2021  TV-MA   1 Season   \n",
       "4  September 24, 2021          2021  TV-MA  2 Seasons   \n",
       "\n",
       "                                           listed_in  \\\n",
       "0                                      Documentaries   \n",
       "1    International TV Shows, TV Dramas, TV Mysteries   \n",
       "2  Crime TV Shows, International TV Shows, TV Act...   \n",
       "3                             Docuseries, Reality TV   \n",
       "4  International TV Shows, Romantic TV Shows, TV ...   \n",
       "\n",
       "                                         description  \n",
       "0  As her father nears the end of his life, filmm...  \n",
       "1  After crossing paths at a party, a Cape Town t...  \n",
       "2  To protect his family from a powerful drug lor...  \n",
       "3  Feuds, flirtations and toilet talk go down amo...  \n",
       "4  In a city of coaching centers known to train I...  "
      ]
     },
     "execution_count": 3,
     "metadata": {},
     "output_type": "execute_result"
    }
   ],
   "source": [
    "movies = pd.read_csv('netflix_titles.csv')\n",
    "movies.head()"
   ]
  },
  {
   "cell_type": "code",
   "execution_count": 4,
   "id": "bac9c1b5-b6a3-4a0e-823e-f36e885d80e1",
   "metadata": {},
   "outputs": [
    {
     "name": "stdout",
     "output_type": "stream",
     "text": [
      "<class 'pandas.core.frame.DataFrame'>\n",
      "RangeIndex: 8807 entries, 0 to 8806\n",
      "Data columns (total 12 columns):\n",
      " #   Column        Non-Null Count  Dtype \n",
      "---  ------        --------------  ----- \n",
      " 0   show_id       8807 non-null   object\n",
      " 1   type          8807 non-null   object\n",
      " 2   title         8807 non-null   object\n",
      " 3   director      6173 non-null   object\n",
      " 4   cast          7982 non-null   object\n",
      " 5   country       7976 non-null   object\n",
      " 6   date_added    8797 non-null   object\n",
      " 7   release_year  8807 non-null   int64 \n",
      " 8   rating        8803 non-null   object\n",
      " 9   duration      8804 non-null   object\n",
      " 10  listed_in     8807 non-null   object\n",
      " 11  description   8807 non-null   object\n",
      "dtypes: int64(1), object(11)\n",
      "memory usage: 825.8+ KB\n"
     ]
    }
   ],
   "source": [
    "movies.info()"
   ]
  },
  {
   "cell_type": "code",
   "execution_count": 27,
   "id": "3f7b0d23-42c6-4056-b539-db7c79614d74",
   "metadata": {},
   "outputs": [
    {
     "ename": "KeyError",
     "evalue": "\"['date_added', 'type', 'director', 'duration', 'listed_in', 'rating'] not found in axis\"",
     "output_type": "error",
     "traceback": [
      "\u001b[1;31m---------------------------------------------------------------------------\u001b[0m",
      "\u001b[1;31mKeyError\u001b[0m                                  Traceback (most recent call last)",
      "Cell \u001b[1;32mIn[27], line 1\u001b[0m\n\u001b[1;32m----> 1\u001b[0m movies\u001b[38;5;241m.\u001b[39mdrop(columns\u001b[38;5;241m=\u001b[39m[\u001b[38;5;124m'\u001b[39m\u001b[38;5;124mdate_added\u001b[39m\u001b[38;5;124m'\u001b[39m, \u001b[38;5;124m'\u001b[39m\u001b[38;5;124mtype\u001b[39m\u001b[38;5;124m'\u001b[39m, \u001b[38;5;124m'\u001b[39m\u001b[38;5;124mdirector\u001b[39m\u001b[38;5;124m'\u001b[39m, \u001b[38;5;124m'\u001b[39m\u001b[38;5;124mduration\u001b[39m\u001b[38;5;124m'\u001b[39m, \u001b[38;5;124m'\u001b[39m\u001b[38;5;124mlisted_in\u001b[39m\u001b[38;5;124m'\u001b[39m, \u001b[38;5;124m'\u001b[39m\u001b[38;5;124mrating\u001b[39m\u001b[38;5;124m'\u001b[39m], inplace\u001b[38;5;241m=\u001b[39m\u001b[38;5;28;01mTrue\u001b[39;00m)\n",
      "File \u001b[1;32m~\\anaconda3\\Lib\\site-packages\\pandas\\core\\frame.py:5581\u001b[0m, in \u001b[0;36mDataFrame.drop\u001b[1;34m(self, labels, axis, index, columns, level, inplace, errors)\u001b[0m\n\u001b[0;32m   5433\u001b[0m \u001b[38;5;28;01mdef\u001b[39;00m \u001b[38;5;21mdrop\u001b[39m(\n\u001b[0;32m   5434\u001b[0m     \u001b[38;5;28mself\u001b[39m,\n\u001b[0;32m   5435\u001b[0m     labels: IndexLabel \u001b[38;5;241m|\u001b[39m \u001b[38;5;28;01mNone\u001b[39;00m \u001b[38;5;241m=\u001b[39m \u001b[38;5;28;01mNone\u001b[39;00m,\n\u001b[1;32m   (...)\u001b[0m\n\u001b[0;32m   5442\u001b[0m     errors: IgnoreRaise \u001b[38;5;241m=\u001b[39m \u001b[38;5;124m\"\u001b[39m\u001b[38;5;124mraise\u001b[39m\u001b[38;5;124m\"\u001b[39m,\n\u001b[0;32m   5443\u001b[0m ) \u001b[38;5;241m-\u001b[39m\u001b[38;5;241m>\u001b[39m DataFrame \u001b[38;5;241m|\u001b[39m \u001b[38;5;28;01mNone\u001b[39;00m:\n\u001b[0;32m   5444\u001b[0m \u001b[38;5;250m    \u001b[39m\u001b[38;5;124;03m\"\"\"\u001b[39;00m\n\u001b[0;32m   5445\u001b[0m \u001b[38;5;124;03m    Drop specified labels from rows or columns.\u001b[39;00m\n\u001b[0;32m   5446\u001b[0m \n\u001b[1;32m   (...)\u001b[0m\n\u001b[0;32m   5579\u001b[0m \u001b[38;5;124;03m            weight  1.0     0.8\u001b[39;00m\n\u001b[0;32m   5580\u001b[0m \u001b[38;5;124;03m    \"\"\"\u001b[39;00m\n\u001b[1;32m-> 5581\u001b[0m     \u001b[38;5;28;01mreturn\u001b[39;00m \u001b[38;5;28msuper\u001b[39m()\u001b[38;5;241m.\u001b[39mdrop(\n\u001b[0;32m   5582\u001b[0m         labels\u001b[38;5;241m=\u001b[39mlabels,\n\u001b[0;32m   5583\u001b[0m         axis\u001b[38;5;241m=\u001b[39maxis,\n\u001b[0;32m   5584\u001b[0m         index\u001b[38;5;241m=\u001b[39mindex,\n\u001b[0;32m   5585\u001b[0m         columns\u001b[38;5;241m=\u001b[39mcolumns,\n\u001b[0;32m   5586\u001b[0m         level\u001b[38;5;241m=\u001b[39mlevel,\n\u001b[0;32m   5587\u001b[0m         inplace\u001b[38;5;241m=\u001b[39minplace,\n\u001b[0;32m   5588\u001b[0m         errors\u001b[38;5;241m=\u001b[39merrors,\n\u001b[0;32m   5589\u001b[0m     )\n",
      "File \u001b[1;32m~\\anaconda3\\Lib\\site-packages\\pandas\\core\\generic.py:4788\u001b[0m, in \u001b[0;36mNDFrame.drop\u001b[1;34m(self, labels, axis, index, columns, level, inplace, errors)\u001b[0m\n\u001b[0;32m   4786\u001b[0m \u001b[38;5;28;01mfor\u001b[39;00m axis, labels \u001b[38;5;129;01min\u001b[39;00m axes\u001b[38;5;241m.\u001b[39mitems():\n\u001b[0;32m   4787\u001b[0m     \u001b[38;5;28;01mif\u001b[39;00m labels \u001b[38;5;129;01mis\u001b[39;00m \u001b[38;5;129;01mnot\u001b[39;00m \u001b[38;5;28;01mNone\u001b[39;00m:\n\u001b[1;32m-> 4788\u001b[0m         obj \u001b[38;5;241m=\u001b[39m obj\u001b[38;5;241m.\u001b[39m_drop_axis(labels, axis, level\u001b[38;5;241m=\u001b[39mlevel, errors\u001b[38;5;241m=\u001b[39merrors)\n\u001b[0;32m   4790\u001b[0m \u001b[38;5;28;01mif\u001b[39;00m inplace:\n\u001b[0;32m   4791\u001b[0m     \u001b[38;5;28mself\u001b[39m\u001b[38;5;241m.\u001b[39m_update_inplace(obj)\n",
      "File \u001b[1;32m~\\anaconda3\\Lib\\site-packages\\pandas\\core\\generic.py:4830\u001b[0m, in \u001b[0;36mNDFrame._drop_axis\u001b[1;34m(self, labels, axis, level, errors, only_slice)\u001b[0m\n\u001b[0;32m   4828\u001b[0m         new_axis \u001b[38;5;241m=\u001b[39m axis\u001b[38;5;241m.\u001b[39mdrop(labels, level\u001b[38;5;241m=\u001b[39mlevel, errors\u001b[38;5;241m=\u001b[39merrors)\n\u001b[0;32m   4829\u001b[0m     \u001b[38;5;28;01melse\u001b[39;00m:\n\u001b[1;32m-> 4830\u001b[0m         new_axis \u001b[38;5;241m=\u001b[39m axis\u001b[38;5;241m.\u001b[39mdrop(labels, errors\u001b[38;5;241m=\u001b[39merrors)\n\u001b[0;32m   4831\u001b[0m     indexer \u001b[38;5;241m=\u001b[39m axis\u001b[38;5;241m.\u001b[39mget_indexer(new_axis)\n\u001b[0;32m   4833\u001b[0m \u001b[38;5;66;03m# Case for non-unique axis\u001b[39;00m\n\u001b[0;32m   4834\u001b[0m \u001b[38;5;28;01melse\u001b[39;00m:\n",
      "File \u001b[1;32m~\\anaconda3\\Lib\\site-packages\\pandas\\core\\indexes\\base.py:7070\u001b[0m, in \u001b[0;36mIndex.drop\u001b[1;34m(self, labels, errors)\u001b[0m\n\u001b[0;32m   7068\u001b[0m \u001b[38;5;28;01mif\u001b[39;00m mask\u001b[38;5;241m.\u001b[39many():\n\u001b[0;32m   7069\u001b[0m     \u001b[38;5;28;01mif\u001b[39;00m errors \u001b[38;5;241m!=\u001b[39m \u001b[38;5;124m\"\u001b[39m\u001b[38;5;124mignore\u001b[39m\u001b[38;5;124m\"\u001b[39m:\n\u001b[1;32m-> 7070\u001b[0m         \u001b[38;5;28;01mraise\u001b[39;00m \u001b[38;5;167;01mKeyError\u001b[39;00m(\u001b[38;5;124mf\u001b[39m\u001b[38;5;124m\"\u001b[39m\u001b[38;5;132;01m{\u001b[39;00mlabels[mask]\u001b[38;5;241m.\u001b[39mtolist()\u001b[38;5;132;01m}\u001b[39;00m\u001b[38;5;124m not found in axis\u001b[39m\u001b[38;5;124m\"\u001b[39m)\n\u001b[0;32m   7071\u001b[0m     indexer \u001b[38;5;241m=\u001b[39m indexer[\u001b[38;5;241m~\u001b[39mmask]\n\u001b[0;32m   7072\u001b[0m \u001b[38;5;28;01mreturn\u001b[39;00m \u001b[38;5;28mself\u001b[39m\u001b[38;5;241m.\u001b[39mdelete(indexer)\n",
      "\u001b[1;31mKeyError\u001b[0m: \"['date_added', 'type', 'director', 'duration', 'listed_in', 'rating'] not found in axis\""
     ]
    }
   ],
   "source": [
    "movies.drop(columns=['date_added', 'type', 'director', 'duration', 'listed_in', 'rating'], inplace=True)   # this becauise try more than one to drop same columns"
   ]
  },
  {
   "cell_type": "code",
   "execution_count": 24,
   "id": "fcbe1569-b5b2-4c1a-a1a1-fff2f288d54c",
   "metadata": {},
   "outputs": [],
   "source": [
    "movies.drop(columns=['country'], inplace=True)"
   ]
  },
  {
   "cell_type": "code",
   "execution_count": 42,
   "id": "dd54899d-9a89-4300-b11f-f7342262924b",
   "metadata": {},
   "outputs": [
    {
     "data": {
      "text/html": [
       "<div>\n",
       "<style scoped>\n",
       "    .dataframe tbody tr th:only-of-type {\n",
       "        vertical-align: middle;\n",
       "    }\n",
       "\n",
       "    .dataframe tbody tr th {\n",
       "        vertical-align: top;\n",
       "    }\n",
       "\n",
       "    .dataframe thead th {\n",
       "        text-align: right;\n",
       "    }\n",
       "</style>\n",
       "<table border=\"1\" class=\"dataframe\">\n",
       "  <thead>\n",
       "    <tr style=\"text-align: right;\">\n",
       "      <th></th>\n",
       "      <th>show_id</th>\n",
       "      <th>title</th>\n",
       "      <th>cast</th>\n",
       "      <th>release_year</th>\n",
       "      <th>description</th>\n",
       "    </tr>\n",
       "  </thead>\n",
       "  <tbody>\n",
       "    <tr>\n",
       "      <th>1</th>\n",
       "      <td>s2</td>\n",
       "      <td>Blood &amp; Water</td>\n",
       "      <td>Ama Qamata, Khosi Ngema, Gail Mabalane, Thaban...</td>\n",
       "      <td>2021</td>\n",
       "      <td>After crossing paths at a party, a Cape Town t...</td>\n",
       "    </tr>\n",
       "    <tr>\n",
       "      <th>2</th>\n",
       "      <td>s3</td>\n",
       "      <td>Ganglands</td>\n",
       "      <td>Sami Bouajila, Tracy Gotoas, Samuel Jouy, Nabi...</td>\n",
       "      <td>2021</td>\n",
       "      <td>To protect his family from a powerful drug lor...</td>\n",
       "    </tr>\n",
       "    <tr>\n",
       "      <th>4</th>\n",
       "      <td>s5</td>\n",
       "      <td>Kota Factory</td>\n",
       "      <td>Mayur More, Jitendra Kumar, Ranjan Raj, Alam K...</td>\n",
       "      <td>2021</td>\n",
       "      <td>In a city of coaching centers known to train I...</td>\n",
       "    </tr>\n",
       "    <tr>\n",
       "      <th>5</th>\n",
       "      <td>s6</td>\n",
       "      <td>Midnight Mass</td>\n",
       "      <td>Kate Siegel, Zach Gilford, Hamish Linklater, H...</td>\n",
       "      <td>2021</td>\n",
       "      <td>The arrival of a charismatic young priest brin...</td>\n",
       "    </tr>\n",
       "    <tr>\n",
       "      <th>6</th>\n",
       "      <td>s7</td>\n",
       "      <td>My Little Pony: A New Generation</td>\n",
       "      <td>Vanessa Hudgens, Kimiko Glenn, James Marsden, ...</td>\n",
       "      <td>2021</td>\n",
       "      <td>Equestria's divided. But a bright-eyed hero be...</td>\n",
       "    </tr>\n",
       "  </tbody>\n",
       "</table>\n",
       "</div>"
      ],
      "text/plain": [
       "  show_id                             title  \\\n",
       "1      s2                     Blood & Water   \n",
       "2      s3                         Ganglands   \n",
       "4      s5                      Kota Factory   \n",
       "5      s6                     Midnight Mass   \n",
       "6      s7  My Little Pony: A New Generation   \n",
       "\n",
       "                                                cast  release_year  \\\n",
       "1  Ama Qamata, Khosi Ngema, Gail Mabalane, Thaban...          2021   \n",
       "2  Sami Bouajila, Tracy Gotoas, Samuel Jouy, Nabi...          2021   \n",
       "4  Mayur More, Jitendra Kumar, Ranjan Raj, Alam K...          2021   \n",
       "5  Kate Siegel, Zach Gilford, Hamish Linklater, H...          2021   \n",
       "6  Vanessa Hudgens, Kimiko Glenn, James Marsden, ...          2021   \n",
       "\n",
       "                                         description  \n",
       "1  After crossing paths at a party, a Cape Town t...  \n",
       "2  To protect his family from a powerful drug lor...  \n",
       "4  In a city of coaching centers known to train I...  \n",
       "5  The arrival of a charismatic young priest brin...  \n",
       "6  Equestria's divided. But a bright-eyed hero be...  "
      ]
     },
     "execution_count": 42,
     "metadata": {},
     "output_type": "execute_result"
    }
   ],
   "source": [
    "movies.head()"
   ]
  },
  {
   "cell_type": "code",
   "execution_count": 39,
   "id": "69d94de3-1d7f-4296-b940-11d6860cb9d6",
   "metadata": {},
   "outputs": [
    {
     "data": {
      "text/plain": [
       "show_id         0\n",
       "title           0\n",
       "cast            0\n",
       "release_year    0\n",
       "description     0\n",
       "dtype: int64"
      ]
     },
     "execution_count": 39,
     "metadata": {},
     "output_type": "execute_result"
    }
   ],
   "source": [
    "movies.isnull().sum()"
   ]
  },
  {
   "cell_type": "code",
   "execution_count": 28,
   "id": "9d5ec680-47e0-4dd4-81d5-cbd399510732",
   "metadata": {},
   "outputs": [
    {
     "data": {
      "text/plain": [
       "(8807, 5)"
      ]
     },
     "execution_count": 28,
     "metadata": {},
     "output_type": "execute_result"
    }
   ],
   "source": [
    "movies.shape"
   ]
  },
  {
   "cell_type": "code",
   "execution_count": 29,
   "id": "1597f83b-d911-45ba-b164-4ce8917b8cdd",
   "metadata": {},
   "outputs": [
    {
     "data": {
      "text/plain": [
       "show_id         100.000000\n",
       "title           100.000000\n",
       "cast             90.632451\n",
       "release_year    100.000000\n",
       "description     100.000000\n",
       "dtype: float64"
      ]
     },
     "execution_count": 29,
     "metadata": {},
     "output_type": "execute_result"
    }
   ],
   "source": [
    "((movies.shape[0]-movies.isnull().sum())/movies.shape[0])*100"
   ]
  },
  {
   "cell_type": "code",
   "execution_count": 40,
   "id": "1819b461-e6a3-4985-842a-4e8de204ef37",
   "metadata": {},
   "outputs": [
    {
     "data": {
      "text/plain": [
       "0"
      ]
     },
     "execution_count": 40,
     "metadata": {},
     "output_type": "execute_result"
    }
   ],
   "source": [
    "movies.duplicated().sum()"
   ]
  },
  {
   "cell_type": "code",
   "execution_count": 37,
   "id": "8e656c92-1e5f-4a00-b1ab-1a9dc923df76",
   "metadata": {},
   "outputs": [],
   "source": [
    "movies.dropna(inplace=True)"
   ]
  },
  {
   "cell_type": "code",
   "execution_count": 44,
   "id": "b3277173-1d8b-464e-87d5-c70b19e1fcac",
   "metadata": {},
   "outputs": [],
   "source": [
    "movies['cast'] = movies['cast'].apply(lambda x : x.split( ))"
   ]
  },
  {
   "cell_type": "code",
   "execution_count": 45,
   "id": "cdbc2582-99ee-4a04-87ca-622dbc23f233",
   "metadata": {},
   "outputs": [],
   "source": [
    "movies['description'] = movies['description'].apply(lambda x : x.split( ))"
   ]
  },
  {
   "cell_type": "code",
   "execution_count": 47,
   "id": "47f749f1-ae15-404c-b358-9792fbf48dc9",
   "metadata": {},
   "outputs": [
    {
     "data": {
      "text/html": [
       "<div>\n",
       "<style scoped>\n",
       "    .dataframe tbody tr th:only-of-type {\n",
       "        vertical-align: middle;\n",
       "    }\n",
       "\n",
       "    .dataframe tbody tr th {\n",
       "        vertical-align: top;\n",
       "    }\n",
       "\n",
       "    .dataframe thead th {\n",
       "        text-align: right;\n",
       "    }\n",
       "</style>\n",
       "<table border=\"1\" class=\"dataframe\">\n",
       "  <thead>\n",
       "    <tr style=\"text-align: right;\">\n",
       "      <th></th>\n",
       "      <th>show_id</th>\n",
       "      <th>title</th>\n",
       "      <th>cast</th>\n",
       "      <th>release_year</th>\n",
       "      <th>description</th>\n",
       "    </tr>\n",
       "  </thead>\n",
       "  <tbody>\n",
       "    <tr>\n",
       "      <th>1</th>\n",
       "      <td>s2</td>\n",
       "      <td>Blood &amp; Water</td>\n",
       "      <td>[Ama, Qamata,, Khosi, Ngema,, Gail, Mabalane,,...</td>\n",
       "      <td>2021</td>\n",
       "      <td>[After, crossing, paths, at, a, party,, a, Cap...</td>\n",
       "    </tr>\n",
       "    <tr>\n",
       "      <th>2</th>\n",
       "      <td>s3</td>\n",
       "      <td>Ganglands</td>\n",
       "      <td>[Sami, Bouajila,, Tracy, Gotoas,, Samuel, Jouy...</td>\n",
       "      <td>2021</td>\n",
       "      <td>[To, protect, his, family, from, a, powerful, ...</td>\n",
       "    </tr>\n",
       "    <tr>\n",
       "      <th>4</th>\n",
       "      <td>s5</td>\n",
       "      <td>Kota Factory</td>\n",
       "      <td>[Mayur, More,, Jitendra, Kumar,, Ranjan, Raj,,...</td>\n",
       "      <td>2021</td>\n",
       "      <td>[In, a, city, of, coaching, centers, known, to...</td>\n",
       "    </tr>\n",
       "    <tr>\n",
       "      <th>5</th>\n",
       "      <td>s6</td>\n",
       "      <td>Midnight Mass</td>\n",
       "      <td>[Kate, Siegel,, Zach, Gilford,, Hamish, Linkla...</td>\n",
       "      <td>2021</td>\n",
       "      <td>[The, arrival, of, a, charismatic, young, prie...</td>\n",
       "    </tr>\n",
       "    <tr>\n",
       "      <th>6</th>\n",
       "      <td>s7</td>\n",
       "      <td>My Little Pony: A New Generation</td>\n",
       "      <td>[Vanessa, Hudgens,, Kimiko, Glenn,, James, Mar...</td>\n",
       "      <td>2021</td>\n",
       "      <td>[Equestria's, divided., But, a, bright-eyed, h...</td>\n",
       "    </tr>\n",
       "    <tr>\n",
       "      <th>...</th>\n",
       "      <td>...</td>\n",
       "      <td>...</td>\n",
       "      <td>...</td>\n",
       "      <td>...</td>\n",
       "      <td>...</td>\n",
       "    </tr>\n",
       "    <tr>\n",
       "      <th>8801</th>\n",
       "      <td>s8802</td>\n",
       "      <td>Zinzana</td>\n",
       "      <td>[Ali, Suliman,, Saleh, Bakri,, Yasa,, Ali, Al-...</td>\n",
       "      <td>2015</td>\n",
       "      <td>[Recovering, alcoholic, Talal, wakes, up, insi...</td>\n",
       "    </tr>\n",
       "    <tr>\n",
       "      <th>8802</th>\n",
       "      <td>s8803</td>\n",
       "      <td>Zodiac</td>\n",
       "      <td>[Mark, Ruffalo,, Jake, Gyllenhaal,, Robert, Do...</td>\n",
       "      <td>2007</td>\n",
       "      <td>[A, political, cartoonist,, a, crime, reporter...</td>\n",
       "    </tr>\n",
       "    <tr>\n",
       "      <th>8804</th>\n",
       "      <td>s8805</td>\n",
       "      <td>Zombieland</td>\n",
       "      <td>[Jesse, Eisenberg,, Woody, Harrelson,, Emma, S...</td>\n",
       "      <td>2009</td>\n",
       "      <td>[Looking, to, survive, in, a, world, taken, ov...</td>\n",
       "    </tr>\n",
       "    <tr>\n",
       "      <th>8805</th>\n",
       "      <td>s8806</td>\n",
       "      <td>Zoom</td>\n",
       "      <td>[Tim, Allen,, Courteney, Cox,, Chevy, Chase,, ...</td>\n",
       "      <td>2006</td>\n",
       "      <td>[Dragged, from, civilian, life,, a, former, su...</td>\n",
       "    </tr>\n",
       "    <tr>\n",
       "      <th>8806</th>\n",
       "      <td>s8807</td>\n",
       "      <td>Zubaan</td>\n",
       "      <td>[Vicky, Kaushal,, Sarah-Jane, Dias,, Raaghav, ...</td>\n",
       "      <td>2015</td>\n",
       "      <td>[A, scrappy, but, poor, boy, worms, his, way, ...</td>\n",
       "    </tr>\n",
       "  </tbody>\n",
       "</table>\n",
       "<p>7982 rows × 5 columns</p>\n",
       "</div>"
      ],
      "text/plain": [
       "     show_id                             title  \\\n",
       "1         s2                     Blood & Water   \n",
       "2         s3                         Ganglands   \n",
       "4         s5                      Kota Factory   \n",
       "5         s6                     Midnight Mass   \n",
       "6         s7  My Little Pony: A New Generation   \n",
       "...      ...                               ...   \n",
       "8801   s8802                           Zinzana   \n",
       "8802   s8803                            Zodiac   \n",
       "8804   s8805                        Zombieland   \n",
       "8805   s8806                              Zoom   \n",
       "8806   s8807                            Zubaan   \n",
       "\n",
       "                                                   cast  release_year  \\\n",
       "1     [Ama, Qamata,, Khosi, Ngema,, Gail, Mabalane,,...          2021   \n",
       "2     [Sami, Bouajila,, Tracy, Gotoas,, Samuel, Jouy...          2021   \n",
       "4     [Mayur, More,, Jitendra, Kumar,, Ranjan, Raj,,...          2021   \n",
       "5     [Kate, Siegel,, Zach, Gilford,, Hamish, Linkla...          2021   \n",
       "6     [Vanessa, Hudgens,, Kimiko, Glenn,, James, Mar...          2021   \n",
       "...                                                 ...           ...   \n",
       "8801  [Ali, Suliman,, Saleh, Bakri,, Yasa,, Ali, Al-...          2015   \n",
       "8802  [Mark, Ruffalo,, Jake, Gyllenhaal,, Robert, Do...          2007   \n",
       "8804  [Jesse, Eisenberg,, Woody, Harrelson,, Emma, S...          2009   \n",
       "8805  [Tim, Allen,, Courteney, Cox,, Chevy, Chase,, ...          2006   \n",
       "8806  [Vicky, Kaushal,, Sarah-Jane, Dias,, Raaghav, ...          2015   \n",
       "\n",
       "                                            description  \n",
       "1     [After, crossing, paths, at, a, party,, a, Cap...  \n",
       "2     [To, protect, his, family, from, a, powerful, ...  \n",
       "4     [In, a, city, of, coaching, centers, known, to...  \n",
       "5     [The, arrival, of, a, charismatic, young, prie...  \n",
       "6     [Equestria's, divided., But, a, bright-eyed, h...  \n",
       "...                                                 ...  \n",
       "8801  [Recovering, alcoholic, Talal, wakes, up, insi...  \n",
       "8802  [A, political, cartoonist,, a, crime, reporter...  \n",
       "8804  [Looking, to, survive, in, a, world, taken, ov...  \n",
       "8805  [Dragged, from, civilian, life,, a, former, su...  \n",
       "8806  [A, scrappy, but, poor, boy, worms, his, way, ...  \n",
       "\n",
       "[7982 rows x 5 columns]"
      ]
     },
     "execution_count": 47,
     "metadata": {},
     "output_type": "execute_result"
    }
   ],
   "source": [
    "movies"
   ]
  },
  {
   "cell_type": "code",
   "execution_count": 48,
   "id": "9226c644-b800-4610-b717-bfd7cefe6863",
   "metadata": {},
   "outputs": [
    {
     "ename": "SyntaxError",
     "evalue": "Generator expression must be parenthesized (788550319.py, line 1)",
     "output_type": "error",
     "traceback": [
      "\u001b[1;36m  Cell \u001b[1;32mIn[48], line 1\u001b[1;36m\u001b[0m\n\u001b[1;33m    movies['cast'].apply(lambda x : [ i.replace(\" \", \"\" for i in x)])\u001b[0m\n\u001b[1;37m                                                     ^\u001b[0m\n\u001b[1;31mSyntaxError\u001b[0m\u001b[1;31m:\u001b[0m Generator expression must be parenthesized\n"
     ]
    }
   ],
   "source": [
    "movies['cast'].apply(lambda x : [ i.replace(\" \", \"\" for i in x)])"
   ]
  },
  {
   "cell_type": "code",
   "execution_count": 49,
   "id": "af845ba7-c44e-41fb-8a00-e6d928789dfb",
   "metadata": {},
   "outputs": [
    {
     "ename": "SyntaxError",
     "evalue": "Generator expression must be parenthesized (3527353700.py, line 1)",
     "output_type": "error",
     "traceback": [
      "\u001b[1;36m  Cell \u001b[1;32mIn[49], line 1\u001b[1;36m\u001b[0m\n\u001b[1;33m    movies['description'].apply(lambda x : [ i.replace(\" \", \"\" for i in x)])\u001b[0m\n\u001b[1;37m                                                            ^\u001b[0m\n\u001b[1;31mSyntaxError\u001b[0m\u001b[1;31m:\u001b[0m Generator expression must be parenthesized\n"
     ]
    }
   ],
   "source": [
    "movies['description'].apply(lambda x : [ i.replace(\" \", \"\" for i in x)])"
   ]
  },
  {
   "cell_type": "code",
   "execution_count": 51,
   "id": "49bc8738-85d0-4e8d-8c0e-1e22fe921141",
   "metadata": {},
   "outputs": [],
   "source": [
    "movies['tags'] = movies['cast'] + movies['description']  # concatnate all lists and sav"
   ]
  },
  {
   "cell_type": "code",
   "execution_count": 52,
   "id": "6893e4bb-46bb-4adf-b74c-7dbd4718e35f",
   "metadata": {},
   "outputs": [
    {
     "data": {
      "text/html": [
       "<div>\n",
       "<style scoped>\n",
       "    .dataframe tbody tr th:only-of-type {\n",
       "        vertical-align: middle;\n",
       "    }\n",
       "\n",
       "    .dataframe tbody tr th {\n",
       "        vertical-align: top;\n",
       "    }\n",
       "\n",
       "    .dataframe thead th {\n",
       "        text-align: right;\n",
       "    }\n",
       "</style>\n",
       "<table border=\"1\" class=\"dataframe\">\n",
       "  <thead>\n",
       "    <tr style=\"text-align: right;\">\n",
       "      <th></th>\n",
       "      <th>show_id</th>\n",
       "      <th>title</th>\n",
       "      <th>cast</th>\n",
       "      <th>release_year</th>\n",
       "      <th>description</th>\n",
       "      <th>tags</th>\n",
       "    </tr>\n",
       "  </thead>\n",
       "  <tbody>\n",
       "    <tr>\n",
       "      <th>1</th>\n",
       "      <td>s2</td>\n",
       "      <td>Blood &amp; Water</td>\n",
       "      <td>[Ama, Qamata,, Khosi, Ngema,, Gail, Mabalane,,...</td>\n",
       "      <td>2021</td>\n",
       "      <td>[After, crossing, paths, at, a, party,, a, Cap...</td>\n",
       "      <td>[Ama, Qamata,, Khosi, Ngema,, Gail, Mabalane,,...</td>\n",
       "    </tr>\n",
       "    <tr>\n",
       "      <th>2</th>\n",
       "      <td>s3</td>\n",
       "      <td>Ganglands</td>\n",
       "      <td>[Sami, Bouajila,, Tracy, Gotoas,, Samuel, Jouy...</td>\n",
       "      <td>2021</td>\n",
       "      <td>[To, protect, his, family, from, a, powerful, ...</td>\n",
       "      <td>[Sami, Bouajila,, Tracy, Gotoas,, Samuel, Jouy...</td>\n",
       "    </tr>\n",
       "    <tr>\n",
       "      <th>4</th>\n",
       "      <td>s5</td>\n",
       "      <td>Kota Factory</td>\n",
       "      <td>[Mayur, More,, Jitendra, Kumar,, Ranjan, Raj,,...</td>\n",
       "      <td>2021</td>\n",
       "      <td>[In, a, city, of, coaching, centers, known, to...</td>\n",
       "      <td>[Mayur, More,, Jitendra, Kumar,, Ranjan, Raj,,...</td>\n",
       "    </tr>\n",
       "    <tr>\n",
       "      <th>5</th>\n",
       "      <td>s6</td>\n",
       "      <td>Midnight Mass</td>\n",
       "      <td>[Kate, Siegel,, Zach, Gilford,, Hamish, Linkla...</td>\n",
       "      <td>2021</td>\n",
       "      <td>[The, arrival, of, a, charismatic, young, prie...</td>\n",
       "      <td>[Kate, Siegel,, Zach, Gilford,, Hamish, Linkla...</td>\n",
       "    </tr>\n",
       "    <tr>\n",
       "      <th>6</th>\n",
       "      <td>s7</td>\n",
       "      <td>My Little Pony: A New Generation</td>\n",
       "      <td>[Vanessa, Hudgens,, Kimiko, Glenn,, James, Mar...</td>\n",
       "      <td>2021</td>\n",
       "      <td>[Equestria's, divided., But, a, bright-eyed, h...</td>\n",
       "      <td>[Vanessa, Hudgens,, Kimiko, Glenn,, James, Mar...</td>\n",
       "    </tr>\n",
       "    <tr>\n",
       "      <th>...</th>\n",
       "      <td>...</td>\n",
       "      <td>...</td>\n",
       "      <td>...</td>\n",
       "      <td>...</td>\n",
       "      <td>...</td>\n",
       "      <td>...</td>\n",
       "    </tr>\n",
       "    <tr>\n",
       "      <th>8801</th>\n",
       "      <td>s8802</td>\n",
       "      <td>Zinzana</td>\n",
       "      <td>[Ali, Suliman,, Saleh, Bakri,, Yasa,, Ali, Al-...</td>\n",
       "      <td>2015</td>\n",
       "      <td>[Recovering, alcoholic, Talal, wakes, up, insi...</td>\n",
       "      <td>[Ali, Suliman,, Saleh, Bakri,, Yasa,, Ali, Al-...</td>\n",
       "    </tr>\n",
       "    <tr>\n",
       "      <th>8802</th>\n",
       "      <td>s8803</td>\n",
       "      <td>Zodiac</td>\n",
       "      <td>[Mark, Ruffalo,, Jake, Gyllenhaal,, Robert, Do...</td>\n",
       "      <td>2007</td>\n",
       "      <td>[A, political, cartoonist,, a, crime, reporter...</td>\n",
       "      <td>[Mark, Ruffalo,, Jake, Gyllenhaal,, Robert, Do...</td>\n",
       "    </tr>\n",
       "    <tr>\n",
       "      <th>8804</th>\n",
       "      <td>s8805</td>\n",
       "      <td>Zombieland</td>\n",
       "      <td>[Jesse, Eisenberg,, Woody, Harrelson,, Emma, S...</td>\n",
       "      <td>2009</td>\n",
       "      <td>[Looking, to, survive, in, a, world, taken, ov...</td>\n",
       "      <td>[Jesse, Eisenberg,, Woody, Harrelson,, Emma, S...</td>\n",
       "    </tr>\n",
       "    <tr>\n",
       "      <th>8805</th>\n",
       "      <td>s8806</td>\n",
       "      <td>Zoom</td>\n",
       "      <td>[Tim, Allen,, Courteney, Cox,, Chevy, Chase,, ...</td>\n",
       "      <td>2006</td>\n",
       "      <td>[Dragged, from, civilian, life,, a, former, su...</td>\n",
       "      <td>[Tim, Allen,, Courteney, Cox,, Chevy, Chase,, ...</td>\n",
       "    </tr>\n",
       "    <tr>\n",
       "      <th>8806</th>\n",
       "      <td>s8807</td>\n",
       "      <td>Zubaan</td>\n",
       "      <td>[Vicky, Kaushal,, Sarah-Jane, Dias,, Raaghav, ...</td>\n",
       "      <td>2015</td>\n",
       "      <td>[A, scrappy, but, poor, boy, worms, his, way, ...</td>\n",
       "      <td>[Vicky, Kaushal,, Sarah-Jane, Dias,, Raaghav, ...</td>\n",
       "    </tr>\n",
       "  </tbody>\n",
       "</table>\n",
       "<p>7982 rows × 6 columns</p>\n",
       "</div>"
      ],
      "text/plain": [
       "     show_id                             title  \\\n",
       "1         s2                     Blood & Water   \n",
       "2         s3                         Ganglands   \n",
       "4         s5                      Kota Factory   \n",
       "5         s6                     Midnight Mass   \n",
       "6         s7  My Little Pony: A New Generation   \n",
       "...      ...                               ...   \n",
       "8801   s8802                           Zinzana   \n",
       "8802   s8803                            Zodiac   \n",
       "8804   s8805                        Zombieland   \n",
       "8805   s8806                              Zoom   \n",
       "8806   s8807                            Zubaan   \n",
       "\n",
       "                                                   cast  release_year  \\\n",
       "1     [Ama, Qamata,, Khosi, Ngema,, Gail, Mabalane,,...          2021   \n",
       "2     [Sami, Bouajila,, Tracy, Gotoas,, Samuel, Jouy...          2021   \n",
       "4     [Mayur, More,, Jitendra, Kumar,, Ranjan, Raj,,...          2021   \n",
       "5     [Kate, Siegel,, Zach, Gilford,, Hamish, Linkla...          2021   \n",
       "6     [Vanessa, Hudgens,, Kimiko, Glenn,, James, Mar...          2021   \n",
       "...                                                 ...           ...   \n",
       "8801  [Ali, Suliman,, Saleh, Bakri,, Yasa,, Ali, Al-...          2015   \n",
       "8802  [Mark, Ruffalo,, Jake, Gyllenhaal,, Robert, Do...          2007   \n",
       "8804  [Jesse, Eisenberg,, Woody, Harrelson,, Emma, S...          2009   \n",
       "8805  [Tim, Allen,, Courteney, Cox,, Chevy, Chase,, ...          2006   \n",
       "8806  [Vicky, Kaushal,, Sarah-Jane, Dias,, Raaghav, ...          2015   \n",
       "\n",
       "                                            description  \\\n",
       "1     [After, crossing, paths, at, a, party,, a, Cap...   \n",
       "2     [To, protect, his, family, from, a, powerful, ...   \n",
       "4     [In, a, city, of, coaching, centers, known, to...   \n",
       "5     [The, arrival, of, a, charismatic, young, prie...   \n",
       "6     [Equestria's, divided., But, a, bright-eyed, h...   \n",
       "...                                                 ...   \n",
       "8801  [Recovering, alcoholic, Talal, wakes, up, insi...   \n",
       "8802  [A, political, cartoonist,, a, crime, reporter...   \n",
       "8804  [Looking, to, survive, in, a, world, taken, ov...   \n",
       "8805  [Dragged, from, civilian, life,, a, former, su...   \n",
       "8806  [A, scrappy, but, poor, boy, worms, his, way, ...   \n",
       "\n",
       "                                                   tags  \n",
       "1     [Ama, Qamata,, Khosi, Ngema,, Gail, Mabalane,,...  \n",
       "2     [Sami, Bouajila,, Tracy, Gotoas,, Samuel, Jouy...  \n",
       "4     [Mayur, More,, Jitendra, Kumar,, Ranjan, Raj,,...  \n",
       "5     [Kate, Siegel,, Zach, Gilford,, Hamish, Linkla...  \n",
       "6     [Vanessa, Hudgens,, Kimiko, Glenn,, James, Mar...  \n",
       "...                                                 ...  \n",
       "8801  [Ali, Suliman,, Saleh, Bakri,, Yasa,, Ali, Al-...  \n",
       "8802  [Mark, Ruffalo,, Jake, Gyllenhaal,, Robert, Do...  \n",
       "8804  [Jesse, Eisenberg,, Woody, Harrelson,, Emma, S...  \n",
       "8805  [Tim, Allen,, Courteney, Cox,, Chevy, Chase,, ...  \n",
       "8806  [Vicky, Kaushal,, Sarah-Jane, Dias,, Raaghav, ...  \n",
       "\n",
       "[7982 rows x 6 columns]"
      ]
     },
     "execution_count": 52,
     "metadata": {},
     "output_type": "execute_result"
    }
   ],
   "source": [
    " movies"
   ]
  },
  {
   "cell_type": "code",
   "execution_count": 53,
   "id": "ca4785d0-9ddd-4134-9888-4370fcf8fb1d",
   "metadata": {},
   "outputs": [],
   "source": [
    "dataset = movies[['show_id','title','release_year','tags']]"
   ]
  },
  {
   "cell_type": "code",
   "execution_count": 60,
   "id": "34afe425-8d1d-401a-9cdb-6e3c8bc3a054",
   "metadata": {},
   "outputs": [
    {
     "name": "stderr",
     "output_type": "stream",
     "text": [
      "C:\\Users\\tonys\\AppData\\Local\\Temp\\ipykernel_9540\\1777655373.py:1: SettingWithCopyWarning: \n",
      "A value is trying to be set on a copy of a slice from a DataFrame.\n",
      "Try using .loc[row_indexer,col_indexer] = value instead\n",
      "\n",
      "See the caveats in the documentation: https://pandas.pydata.org/pandas-docs/stable/user_guide/indexing.html#returning-a-view-versus-a-copy\n",
      "  dataset['tags'] = dataset['tags'].apply( lambda x : \" \".join(x))\n"
     ]
    }
   ],
   "source": [
    "dataset['tags'] = dataset['tags'].apply( lambda x : \" \".join(x))   # convert all sets into string in tags"
   ]
  },
  {
   "cell_type": "code",
   "execution_count": 61,
   "id": "c288ecc5-4c62-405d-8b61-48646ef24663",
   "metadata": {},
   "outputs": [
    {
     "data": {
      "text/plain": [
       "'Ama Qamata, Khosi Ngema, Gail Mabalane, Thabang Molaba, Dillon Windvogel, Natasha Thahane, Arno Greeff, Xolile Tshabalala, Getmore Sithole, Cindy Mahlangu, Ryle De Morny, Greteli Fincham, Sello Maake Ka-Ncube, Odwa Gwanya, Mekaila Mathys, Sandi Schultz, Duane Williams, Shamilla Miller, Patrick Mofokeng After crossing paths at a party, a Cape Town teen sets out to prove whether a private-school swimming star is her sister who was abducted at birth.'"
      ]
     },
     "execution_count": 61,
     "metadata": {},
     "output_type": "execute_result"
    }
   ],
   "source": [
    "dataset['tags'][1]"
   ]
  },
  {
   "cell_type": "code",
   "execution_count": 62,
   "id": "71bc31bf-8e6e-496b-9ab3-83d320fbc75f",
   "metadata": {},
   "outputs": [
    {
     "name": "stderr",
     "output_type": "stream",
     "text": [
      "C:\\Users\\tonys\\AppData\\Local\\Temp\\ipykernel_9540\\1448900680.py:1: SettingWithCopyWarning: \n",
      "A value is trying to be set on a copy of a slice from a DataFrame.\n",
      "Try using .loc[row_indexer,col_indexer] = value instead\n",
      "\n",
      "See the caveats in the documentation: https://pandas.pydata.org/pandas-docs/stable/user_guide/indexing.html#returning-a-view-versus-a-copy\n",
      "  dataset['tags'] = dataset['tags'].apply( lambda x : x.lower())\n"
     ]
    }
   ],
   "source": [
    "dataset['tags'] = dataset['tags'].apply( lambda x : x.lower())  # make all tags in lower case."
   ]
  },
  {
   "cell_type": "code",
   "execution_count": 63,
   "id": "3be44699-7d2c-4d36-82d0-8073561b96c7",
   "metadata": {},
   "outputs": [
    {
     "data": {
      "text/plain": [
       "'ama qamata, khosi ngema, gail mabalane, thabang molaba, dillon windvogel, natasha thahane, arno greeff, xolile tshabalala, getmore sithole, cindy mahlangu, ryle de morny, greteli fincham, sello maake ka-ncube, odwa gwanya, mekaila mathys, sandi schultz, duane williams, shamilla miller, patrick mofokeng after crossing paths at a party, a cape town teen sets out to prove whether a private-school swimming star is her sister who was abducted at birth.'"
      ]
     },
     "execution_count": 63,
     "metadata": {},
     "output_type": "execute_result"
    }
   ],
   "source": [
    "dataset['tags'][1]"
   ]
  },
  {
   "cell_type": "code",
   "execution_count": 77,
   "id": "1a843a47-d226-469f-987a-17bfdb0b41f5",
   "metadata": {},
   "outputs": [
    {
     "data": {
      "text/plain": [
       "(7982, 4)"
      ]
     },
     "execution_count": 77,
     "metadata": {},
     "output_type": "execute_result"
    }
   ],
   "source": [
    "dataset.shape"
   ]
  },
  {
   "cell_type": "code",
   "execution_count": 85,
   "id": "a5c055cb-4057-4a3d-9ee1-cdb675fef410",
   "metadata": {},
   "outputs": [],
   "source": [
    "from nltk.stem.porter import PorterStemmer\n",
    "po = PorterStemmer()"
   ]
  },
  {
   "cell_type": "code",
   "execution_count": 86,
   "id": "73812f2e-8d53-4524-9941-19b39b6f9e85",
   "metadata": {},
   "outputs": [],
   "source": [
    "def stem(text):\n",
    "    y = []\n",
    "    for i in text.split():\n",
    "        y.append(po.stem(i))\n",
    "\n",
    "    return \" \".join(y)"
   ]
  },
  {
   "cell_type": "code",
   "execution_count": 88,
   "id": "787bf8ff-ad1f-4c82-a240-629faf1e6e1a",
   "metadata": {},
   "outputs": [
    {
     "name": "stderr",
     "output_type": "stream",
     "text": [
      "C:\\Users\\tonys\\AppData\\Local\\Temp\\ipykernel_9540\\3251655008.py:1: SettingWithCopyWarning: \n",
      "A value is trying to be set on a copy of a slice from a DataFrame.\n",
      "Try using .loc[row_indexer,col_indexer] = value instead\n",
      "\n",
      "See the caveats in the documentation: https://pandas.pydata.org/pandas-docs/stable/user_guide/indexing.html#returning-a-view-versus-a-copy\n",
      "  dataset['tags'] = dataset['tags'].apply(stem)\n"
     ]
    }
   ],
   "source": [
    "dataset['tags'] = dataset['tags'].apply(stem)"
   ]
  },
  {
   "cell_type": "code",
   "execution_count": 89,
   "id": "fab9dcbd-7db0-4645-a935-333f87d2f277",
   "metadata": {},
   "outputs": [],
   "source": [
    "from sklearn.feature_extraction.text import CountVectorizer\n",
    "cv = CountVectorizer(max_features=7982, stop_words= \"english\")"
   ]
  },
  {
   "cell_type": "code",
   "execution_count": 90,
   "id": "80506e6a-c108-4e67-a5de-a5614dcbe788",
   "metadata": {},
   "outputs": [],
   "source": [
    "vectores = cv.fit_transform(dataset['tags']).toarray()"
   ]
  },
  {
   "cell_type": "code",
   "execution_count": 92,
   "id": "0640a554-48d1-49d9-a515-95af151e9dcb",
   "metadata": {},
   "outputs": [
    {
     "data": {
      "text/plain": [
       "array([[0, 0, 0, ..., 0, 0, 0],\n",
       "       [0, 0, 0, ..., 0, 0, 0],\n",
       "       [0, 0, 0, ..., 0, 0, 0],\n",
       "       ...,\n",
       "       [0, 0, 0, ..., 0, 0, 0],\n",
       "       [0, 0, 0, ..., 0, 0, 0],\n",
       "       [0, 0, 0, ..., 0, 0, 0]], dtype=int64)"
      ]
     },
     "execution_count": 92,
     "metadata": {},
     "output_type": "execute_result"
    }
   ],
   "source": [
    "vectores"
   ]
  },
  {
   "cell_type": "code",
   "execution_count": 93,
   "id": "075394f2-1792-49d9-8cf4-705bf6c00a54",
   "metadata": {},
   "outputs": [],
   "source": [
    "from sklearn.metrics.pairwise import cosine_similarity"
   ]
  },
  {
   "cell_type": "code",
   "execution_count": 95,
   "id": "add4d894-9425-4e4c-a2b6-919006e438f3",
   "metadata": {},
   "outputs": [],
   "source": [
    "similarity = cosine_similarity(vectores)"
   ]
  },
  {
   "cell_type": "code",
   "execution_count": 96,
   "id": "18852ed1-1d95-47cf-809a-2db9265567c4",
   "metadata": {},
   "outputs": [
    {
     "data": {
      "text/plain": [
       "array([[1.        , 0.        , 0.        , ..., 0.        , 0.        ,\n",
       "        0.        ],\n",
       "       [0.        , 1.        , 0.08703883, ..., 0.04351941, 0.        ,\n",
       "        0.21997067],\n",
       "       [0.        , 0.08703883, 1.        , ..., 0.04545455, 0.0805823 ,\n",
       "        0.11487594],\n",
       "       ...,\n",
       "       [0.        , 0.04351941, 0.04545455, ..., 1.        , 0.04029115,\n",
       "        0.        ],\n",
       "       [0.        , 0.        , 0.0805823 , ..., 0.04029115, 1.        ,\n",
       "        0.        ],\n",
       "       [0.        , 0.21997067, 0.11487594, ..., 0.        , 0.        ,\n",
       "        1.        ]])"
      ]
     },
     "execution_count": 96,
     "metadata": {},
     "output_type": "execute_result"
    }
   ],
   "source": [
    "similarity"
   ]
  },
  {
   "cell_type": "code",
   "execution_count": 104,
   "id": "dfdf49f1-3c41-4475-b219-7d195bb29ea7",
   "metadata": {},
   "outputs": [],
   "source": [
    "def recommend(movie):\n",
    "    movie_index = dataset[dataset['title'] == movie].index[0]  \n",
    "    distances = similarity[movie_index]\n",
    "    movies_list = sorted( list( enumerate(distances)), reverse=True, key = lambda x : x[1])[1:6]\n",
    "\n",
    "    for i in movies_list:\n",
    "        print(dataset.iloc[i[0]].title)"
   ]
  },
  {
   "cell_type": "code",
   "execution_count": 114,
   "id": "26889c65-5ff4-40d3-9a54-e45254546b68",
   "metadata": {},
   "outputs": [
    {
     "ename": "IndexError",
     "evalue": "index 8802 is out of bounds for axis 0 with size 7982",
     "output_type": "error",
     "traceback": [
      "\u001b[1;31m---------------------------------------------------------------------------\u001b[0m",
      "\u001b[1;31mIndexError\u001b[0m                                Traceback (most recent call last)",
      "Cell \u001b[1;32mIn[114], line 1\u001b[0m\n\u001b[1;32m----> 1\u001b[0m recommend(\u001b[38;5;124m'\u001b[39m\u001b[38;5;124mZodiac\u001b[39m\u001b[38;5;124m'\u001b[39m)\n",
      "Cell \u001b[1;32mIn[104], line 3\u001b[0m, in \u001b[0;36mrecommend\u001b[1;34m(movie)\u001b[0m\n\u001b[0;32m      1\u001b[0m \u001b[38;5;28;01mdef\u001b[39;00m \u001b[38;5;21mrecommend\u001b[39m(movie):\n\u001b[0;32m      2\u001b[0m     movie_index \u001b[38;5;241m=\u001b[39m dataset[dataset[\u001b[38;5;124m'\u001b[39m\u001b[38;5;124mtitle\u001b[39m\u001b[38;5;124m'\u001b[39m] \u001b[38;5;241m==\u001b[39m movie]\u001b[38;5;241m.\u001b[39mindex[\u001b[38;5;241m0\u001b[39m]  \n\u001b[1;32m----> 3\u001b[0m     distances \u001b[38;5;241m=\u001b[39m similarity[movie_index]\n\u001b[0;32m      4\u001b[0m     movies_list \u001b[38;5;241m=\u001b[39m \u001b[38;5;28msorted\u001b[39m( \u001b[38;5;28mlist\u001b[39m( \u001b[38;5;28menumerate\u001b[39m(distances)), reverse\u001b[38;5;241m=\u001b[39m\u001b[38;5;28;01mTrue\u001b[39;00m, key \u001b[38;5;241m=\u001b[39m \u001b[38;5;28;01mlambda\u001b[39;00m x : x[\u001b[38;5;241m1\u001b[39m])[\u001b[38;5;241m1\u001b[39m:\u001b[38;5;241m6\u001b[39m]\n\u001b[0;32m      6\u001b[0m     \u001b[38;5;28;01mfor\u001b[39;00m i \u001b[38;5;129;01min\u001b[39;00m movies_list:\n",
      "\u001b[1;31mIndexError\u001b[0m: index 8802 is out of bounds for axis 0 with size 7982"
     ]
    }
   ],
   "source": [
    "recommend('Zodiac')"
   ]
  },
  {
   "cell_type": "code",
   "execution_count": 106,
   "id": "58c5d9cf-24ca-4767-b864-069a0e66a194",
   "metadata": {},
   "outputs": [],
   "source": [
    "import pickle"
   ]
  },
  {
   "cell_type": "code",
   "execution_count": 112,
   "id": "38d797e0-2b09-41c4-bab8-ba86645229bc",
   "metadata": {},
   "outputs": [],
   "source": [
    "pickle.dump(dataset, open('movies_dict.pkl','wb'))"
   ]
  },
  {
   "cell_type": "code",
   "execution_count": 108,
   "id": "a668c7d0-72f4-42b1-b2fe-01f8a2fdbb2e",
   "metadata": {},
   "outputs": [
    {
     "data": {
      "text/plain": [
       "array(['Blood & Water', 'Ganglands', 'Kota Factory', ..., 'Zombieland',\n",
       "       'Zoom', 'Zubaan'], dtype=object)"
      ]
     },
     "execution_count": 108,
     "metadata": {},
     "output_type": "execute_result"
    }
   ],
   "source": [
    " dataset['title'].values"
   ]
  },
  {
   "cell_type": "code",
   "execution_count": 109,
   "id": "1ebd24d1-1d7f-46ab-a897-4a197b2b961d",
   "metadata": {},
   "outputs": [],
   "source": [
    "pickle.dump(similarity, open('similarity.pkl', 'wb'))"
   ]
  },
  {
   "cell_type": "code",
   "execution_count": null,
   "id": "099fafaf-772f-441f-a853-894bacc1d6d4",
   "metadata": {},
   "outputs": [],
   "source": []
  }
 ],
 "metadata": {
  "kernelspec": {
   "display_name": "Python 3 (ipykernel)",
   "language": "python",
   "name": "python3"
  },
  "language_info": {
   "codemirror_mode": {
    "name": "ipython",
    "version": 3
   },
   "file_extension": ".py",
   "mimetype": "text/x-python",
   "name": "python",
   "nbconvert_exporter": "python",
   "pygments_lexer": "ipython3",
   "version": "3.12.4"
  }
 },
 "nbformat": 4,
 "nbformat_minor": 5
}
